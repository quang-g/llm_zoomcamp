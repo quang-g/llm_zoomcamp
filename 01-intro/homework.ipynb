{
 "cells": [
  {
   "cell_type": "code",
   "execution_count": 6,
   "id": "14e6130a-d782-4aee-9d8e-c6fac46c3556",
   "metadata": {
    "jupyter": {
     "source_hidden": true
    }
   },
   "outputs": [],
   "source": [
    "# Getting the documents\n",
    "import requests \n",
    "\n",
    "docs_url = 'https://github.com/DataTalksClub/llm-zoomcamp/blob/main/01-intro/documents.json?raw=1'\n",
    "docs_response = requests.get(docs_url)\n",
    "documents_raw = docs_response.json()\n",
    "\n",
    "documents = []\n",
    "\n",
    "for course in documents_raw:\n",
    "    course_name = course['course']\n",
    "\n",
    "    for doc in course['documents']:\n",
    "        doc['course'] = course_name\n",
    "        documents.append(doc)"
   ]
  },
  {
   "cell_type": "code",
   "execution_count": 7,
   "id": "fc2bf948-42a6-4566-bc97-ecba2726cf3a",
   "metadata": {},
   "outputs": [
    {
     "data": {
      "text/plain": [
       "{'text': \"The purpose of this document is to capture frequently asked technical questions\\nThe exact day and hour of the course will be 15th Jan 2024 at 17h00. The course will start with the first  “Office Hours'' live.1\\nSubscribe to course public Google Calendar (it works from Desktop only).\\nRegister before the course starts using this link.\\nJoin the course Telegram channel with announcements.\\nDon’t forget to register in DataTalks.Club's Slack and join the channel.\",\n",
       " 'section': 'General course-related questions',\n",
       " 'question': 'Course - When will the course start?',\n",
       " 'course': 'data-engineering-zoomcamp'}"
      ]
     },
     "execution_count": 7,
     "metadata": {},
     "output_type": "execute_result"
    }
   ],
   "source": [
    "documents[0]"
   ]
  },
  {
   "cell_type": "markdown",
   "id": "b3023401-d2d4-44d0-bdef-a96c8440f9fc",
   "metadata": {},
   "source": [
    "### Indexing the Data using ElasticSearch"
   ]
  },
  {
   "cell_type": "code",
   "execution_count": 8,
   "id": "e3d9cfa4-b95b-4fdb-9204-7eea0fe8c7cf",
   "metadata": {},
   "outputs": [],
   "source": [
    "# Indexing the Data using ElasticSearch\n",
    "from elasticsearch import Elasticsearch\n",
    "from tqdm.auto import tqdm"
   ]
  },
  {
   "cell_type": "code",
   "execution_count": 9,
   "id": "46c0d672-2121-4ea6-b1f5-bb189e62afb5",
   "metadata": {},
   "outputs": [],
   "source": [
    "es_client = Elasticsearch(['http://localhost:9200'])"
   ]
  },
  {
   "cell_type": "code",
   "execution_count": 10,
   "id": "f076a961-5977-4c7d-950f-48409b096141",
   "metadata": {},
   "outputs": [
    {
     "name": "stdout",
     "output_type": "stream",
     "text": [
      "Created index: course-questions\n"
     ]
    },
    {
     "name": "stderr",
     "output_type": "stream",
     "text": [
      "100%|██████████████████████████████████████████████████████████████████████████████████████████████████████████████████████████████████████████████████████████████| 948/948 [00:04<00:00, 208.90it/s]\n"
     ]
    }
   ],
   "source": [
    "index_settings = {\n",
    "    \"settings\": {\n",
    "        \"number_of_shards\": 1,\n",
    "        \"number_of_replicas\": 0\n",
    "    },\n",
    "    \"mappings\": {\n",
    "        \"properties\": {\n",
    "            \"text\": {\"type\": \"text\"},\n",
    "            \"section\": {\"type\": \"text\"},\n",
    "            \"question\": {\"type\": \"text\"},\n",
    "            \"course\": {\"type\": \"keyword\"} \n",
    "        }\n",
    "    }\n",
    "}\n",
    "\n",
    "index_name = \"course-questions\"\n",
    "\n",
    "# Check if index exists before creating\n",
    "if not es_client.indices.exists(index=index_name):\n",
    "    es_client.indices.create(index=index_name, body=index_settings)\n",
    "    print(f\"Created index: {index_name}\")\n",
    "else:\n",
    "    print(f\"Index {index_name} already exists, skipping creation\")\n",
    "\n",
    "for doc in tqdm(documents):\n",
    "    es_client.index(index=index_name,document=doc)"
   ]
  },
  {
   "cell_type": "markdown",
   "id": "28fc8f03-8308-44fa-9ef5-e57f1b3347bc",
   "metadata": {},
   "source": [
    "### Search in the Index"
   ]
  },
  {
   "cell_type": "code",
   "execution_count": 11,
   "id": "7f707b24-51b1-4a26-a6fb-94850ee725ed",
   "metadata": {},
   "outputs": [],
   "source": [
    "query = \"How do execute a command on a Kubernetes pod?\""
   ]
  },
  {
   "cell_type": "code",
   "execution_count": 12,
   "id": "df264715-d667-41fb-bf8e-d8a13cf6e899",
   "metadata": {},
   "outputs": [],
   "source": [
    "search_query = {\n",
    "    \"size\": 5,\n",
    "    \"query\": {\n",
    "        \"bool\": {\n",
    "            \"must\": {\n",
    "                \"multi_match\": {\n",
    "                    \"query\": query,\n",
    "                    \"fields\": [\"question^4\", \"text\", \"section\"],\n",
    "                    \"type\": \"best_fields\"\n",
    "                }\n",
    "            }\n",
    "        }\n",
    "    }\n",
    "}\n",
    "\n",
    "response = es_client.search(index=index_name, body=search_query)\n",
    "# result_docs = []\n",
    "# for hit in response['hits']['hits']:\n",
    "#     result_docs.append(hit['_source'])"
   ]
  },
  {
   "cell_type": "code",
   "execution_count": 13,
   "id": "0c91c545-c755-41fa-b1fe-0d1b10a7be92",
   "metadata": {},
   "outputs": [
    {
     "data": {
      "text/plain": [
       "43.480717"
      ]
     },
     "execution_count": 13,
     "metadata": {},
     "output_type": "execute_result"
    }
   ],
   "source": [
    "response['hits']['hits'][0]['_score']"
   ]
  },
  {
   "cell_type": "code",
   "execution_count": 14,
   "id": "e5d2ceff-e681-4f4a-9c08-267750118306",
   "metadata": {},
   "outputs": [
    {
     "name": "stdout",
     "output_type": "stream",
     "text": [
      "The top ranking result score is 43.480717\n"
     ]
    }
   ],
   "source": [
    "print(f\"The top ranking result score is {response['hits']['hits'][0]['_score']}\")"
   ]
  },
  {
   "cell_type": "markdown",
   "id": "4fca11e8-f362-4a55-87bd-d54f6408dee0",
   "metadata": {},
   "source": [
    "### Filtering"
   ]
  },
  {
   "cell_type": "code",
   "execution_count": 15,
   "id": "05611518-c4aa-45e0-a4a9-aef83c0d7979",
   "metadata": {},
   "outputs": [],
   "source": [
    "#Now we only interested in questions from the course \"machine-learning-zoomcamp\"\n",
    "def search_ml_zoomcamp_questions(query):\n",
    "    search_query = {\n",
    "        \"size\": 3,\n",
    "        \"query\": {\n",
    "            \"bool\": {\n",
    "                \"must\": {\n",
    "                    \"multi_match\": {\n",
    "                        \"query\": query,\n",
    "                        \"fields\": [\"question^4\", \"text\", \"section\"],\n",
    "                        \"type\": \"best_fields\"\n",
    "                    }\n",
    "                },\n",
    "                \"filter\": {\n",
    "                    \"term\": {\n",
    "                        \"course\": \"machine-learning-zoomcamp\"\n",
    "                    }\n",
    "                }\n",
    "            }\n",
    "        }\n",
    "    }\n",
    "    \n",
    "    response = es_client.search(index=index_name, body=search_query)\n",
    "    result_docs = []\n",
    "    for hit in response['hits']['hits']:\n",
    "        result_docs.append(hit['_source'])\n",
    "    return result_docs"
   ]
  },
  {
   "cell_type": "code",
   "execution_count": 16,
   "id": "89111e34-61c0-4264-ab92-6e9b29f6229d",
   "metadata": {},
   "outputs": [],
   "source": [
    "query = \"How do copy a file to a Docker container?\""
   ]
  },
  {
   "cell_type": "code",
   "execution_count": 19,
   "id": "f7806904-7468-4333-853c-bc68e9356b36",
   "metadata": {},
   "outputs": [],
   "source": [
    "search_results = search_ml_zoomcamp_questions(query)"
   ]
  },
  {
   "cell_type": "markdown",
   "id": "2bf74a88-e6f9-43bd-93b7-d6ec017cecc4",
   "metadata": {},
   "source": [
    "### Building a prompt\n",
    "Take the records returned from Elasticsearch in Filtering and use this template to build the context. Separate context entries by two linebreaks (\\n\\n)"
   ]
  },
  {
   "cell_type": "code",
   "execution_count": 25,
   "id": "100d48b8-e1d7-4f50-beae-70fdf9b046b0",
   "metadata": {},
   "outputs": [
    {
     "name": "stdout",
     "output_type": "stream",
     "text": [
      "1442\n"
     ]
    }
   ],
   "source": [
    "prompt_template = \"\"\"\n",
    "You're a course teaching assistant. Answer the QUESTION based on the CONTEXT from the FAQ database.\n",
    "Use only the facts from the CONTEXT when answering the QUESTION.\n",
    "\n",
    "QUESTION: {question}\n",
    "\n",
    "CONTEXT:\n",
    "{context}\n",
    "\"\"\".strip()\n",
    "\n",
    "context=\"\"\n",
    "\n",
    "for doc in search_results:\n",
    "    context = context + f\"Q: {doc['question']}\\nA: {doc['text']}\\n\\n\".strip()\n",
    "\n",
    "prompt = prompt_template.format(question=query, context=context).strip()\n",
    "print(len(prompt))"
   ]
  },
  {
   "cell_type": "markdown",
   "id": "a2d59c05-a323-49f2-91a1-6eac8ffd84ac",
   "metadata": {},
   "source": [
    "### Tokens\n",
    "When we use the API, we're charged by the number of tokens we send in our prompt and receive in the response.\n",
    "Let's calculate the number of tokens in our query:"
   ]
  },
  {
   "cell_type": "code",
   "execution_count": 27,
   "id": "4f5a3708-7c87-4cbf-afc9-b1f05b629143",
   "metadata": {},
   "outputs": [],
   "source": [
    "from google import genai"
   ]
  },
  {
   "cell_type": "code",
   "execution_count": 28,
   "id": "94f7015f-51be-47e8-8814-748a71165d98",
   "metadata": {},
   "outputs": [],
   "source": [
    "client = genai.Client()"
   ]
  },
  {
   "cell_type": "code",
   "execution_count": 38,
   "id": "964424c4-1444-4ed2-8099-8e683dcbc660",
   "metadata": {},
   "outputs": [],
   "source": [
    "model=\"gemini-2.5-flash\"\n",
    "\n",
    "# Count tokens using the new client method.\n",
    "total_tokens = client.models.count_tokens(\n",
    "    model=model, contents=prompt\n",
    ").total_tokens"
   ]
  },
  {
   "cell_type": "code",
   "execution_count": 40,
   "id": "c5616f6e-538c-4ef8-8065-3233b583dec2",
   "metadata": {},
   "outputs": [
    {
     "data": {
      "text/plain": [
       "353"
      ]
     },
     "execution_count": 40,
     "metadata": {},
     "output_type": "execute_result"
    }
   ],
   "source": [
    "total_tokens"
   ]
  },
  {
   "cell_type": "code",
   "execution_count": 44,
   "id": "d46673c2-2aeb-42b1-b427-7df752b854ce",
   "metadata": {},
   "outputs": [
    {
     "name": "stdout",
     "output_type": "stream",
     "text": [
      "Question: How do copy a file to a Docker container?\n",
      "To copy a file to a Docker container, you can use the `docker cp` command.\n",
      "\n",
      "Here's how to do it:\n",
      "To copy a file or directory from your local machine into a running Docker container, use the following syntax:\n",
      "`docker cp /path/to/local/file_or_directory container_id:/path/in/container`\n"
     ]
    }
   ],
   "source": [
    "response = client.models.generate_content(\n",
    "    model=model,\n",
    "    contents=prompt\n",
    ")\n",
    "\n",
    "response = response.text\n",
    "\n",
    "print(f\"Question: {query}\")\n",
    "print(response)"
   ]
  },
  {
   "cell_type": "code",
   "execution_count": null,
   "id": "1b6a2a79-d726-4964-806c-8dd6219e8b02",
   "metadata": {},
   "outputs": [],
   "source": []
  }
 ],
 "metadata": {
  "kernelspec": {
   "display_name": "Python 3 (ipykernel)",
   "language": "python",
   "name": "python3"
  },
  "language_info": {
   "codemirror_mode": {
    "name": "ipython",
    "version": 3
   },
   "file_extension": ".py",
   "mimetype": "text/x-python",
   "name": "python",
   "nbconvert_exporter": "python",
   "pygments_lexer": "ipython3",
   "version": "3.12.1"
  }
 },
 "nbformat": 4,
 "nbformat_minor": 5
}
