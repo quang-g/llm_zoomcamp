{
 "cells": [
  {
   "cell_type": "code",
   "execution_count": 1,
   "id": "178a250f",
   "metadata": {
    "jupyter": {
     "source_hidden": true
    }
   },
   "outputs": [],
   "source": [
    "import minsearch"
   ]
  },
  {
   "cell_type": "code",
   "execution_count": 2,
   "id": "3271db3a",
   "metadata": {},
   "outputs": [],
   "source": [
    "import json"
   ]
  },
  {
   "cell_type": "code",
   "execution_count": 3,
   "id": "2fd59940",
   "metadata": {},
   "outputs": [],
   "source": [
    "with open('documents.json', 'rt') as f_in:\n",
    "    docs_raw = json.load(f_in)"
   ]
  },
  {
   "cell_type": "code",
   "execution_count": 4,
   "id": "a7c0bccc",
   "metadata": {},
   "outputs": [],
   "source": [
    "documents = []\n",
    "\n",
    "for course_dict in docs_raw:\n",
    "    for doc in course_dict['documents']:\n",
    "        doc['course'] = course_dict['course']\n",
    "        documents.append(doc)"
   ]
  },
  {
   "cell_type": "code",
   "execution_count": 5,
   "id": "74b4b250",
   "metadata": {},
   "outputs": [
    {
     "data": {
      "text/plain": [
       "{'text': \"The purpose of this document is to capture frequently asked technical questions\\nThe exact day and hour of the course will be 15th Jan 2024 at 17h00. The course will start with the first  “Office Hours'' live.1\\nSubscribe to course public Google Calendar (it works from Desktop only).\\nRegister before the course starts using this link.\\nJoin the course Telegram channel with announcements.\\nDon’t forget to register in DataTalks.Club's Slack and join the channel.\",\n",
       " 'section': 'General course-related questions',\n",
       " 'question': 'Course - When will the course start?',\n",
       " 'course': 'data-engineering-zoomcamp'}"
      ]
     },
     "execution_count": 5,
     "metadata": {},
     "output_type": "execute_result"
    }
   ],
   "source": [
    "documents[0]"
   ]
  },
  {
   "cell_type": "code",
   "execution_count": 6,
   "id": "7ae9df0d",
   "metadata": {},
   "outputs": [],
   "source": [
    "#Now we want to index it\n",
    "index = minsearch.Index(\n",
    "    text_fields=['question','text','section'],\n",
    "    keyword_fields=['course']\n",
    ")"
   ]
  },
  {
   "cell_type": "code",
   "execution_count": 7,
   "id": "a0720359",
   "metadata": {},
   "outputs": [],
   "source": [
    "q = 'the course has already started, can I still enroll?'"
   ]
  },
  {
   "cell_type": "code",
   "execution_count": 8,
   "id": "9738e60e",
   "metadata": {},
   "outputs": [
    {
     "data": {
      "text/plain": [
       "<minsearch.minsearch.Index at 0x7ba789d0f5c0>"
      ]
     },
     "execution_count": 8,
     "metadata": {},
     "output_type": "execute_result"
    }
   ],
   "source": [
    "index.fit(documents)"
   ]
  },
  {
   "cell_type": "code",
   "execution_count": 9,
   "id": "9722c5da",
   "metadata": {},
   "outputs": [],
   "source": [
    "boost = {'question': 3.0, 'section': 0.5}\n",
    "\n",
    "result = index.search(\n",
    "    query=q,\n",
    "    boost_dict=boost,\n",
    "    filter_dict={'course': 'data-engineering-zoomcamp'},\n",
    "    num_results=5\n",
    ")"
   ]
  },
  {
   "cell_type": "code",
   "execution_count": 10,
   "id": "d12f0b7c",
   "metadata": {
    "jupyter": {
     "source_hidden": true
    }
   },
   "outputs": [
    {
     "data": {
      "text/plain": [
       "[{'text': \"Yes, even if you don't register, you're still eligible to submit the homeworks.\\nBe aware, however, that there will be deadlines for turning in the final projects. So don't leave everything for the last minute.\",\n",
       "  'section': 'General course-related questions',\n",
       "  'question': 'Course - Can I still join the course after the start date?',\n",
       "  'course': 'data-engineering-zoomcamp'},\n",
       " {'text': 'Yes, we will keep all the materials after the course finishes, so you can follow the course at your own pace after it finishes.\\nYou can also continue looking at the homeworks and continue preparing for the next cohort. I guess you can also start working on your final capstone project.',\n",
       "  'section': 'General course-related questions',\n",
       "  'question': 'Course - Can I follow the course after it finishes?',\n",
       "  'course': 'data-engineering-zoomcamp'},\n",
       " {'text': \"The purpose of this document is to capture frequently asked technical questions\\nThe exact day and hour of the course will be 15th Jan 2024 at 17h00. The course will start with the first  “Office Hours'' live.1\\nSubscribe to course public Google Calendar (it works from Desktop only).\\nRegister before the course starts using this link.\\nJoin the course Telegram channel with announcements.\\nDon’t forget to register in DataTalks.Club's Slack and join the channel.\",\n",
       "  'section': 'General course-related questions',\n",
       "  'question': 'Course - When will the course start?',\n",
       "  'course': 'data-engineering-zoomcamp'},\n",
       " {'text': 'You can start by installing and setting up all the dependencies and requirements:\\nGoogle cloud account\\nGoogle Cloud SDK\\nPython 3 (installed with Anaconda)\\nTerraform\\nGit\\nLook over the prerequisites and syllabus to see if you are comfortable with these subjects.',\n",
       "  'section': 'General course-related questions',\n",
       "  'question': 'Course - What can I do before the course starts?',\n",
       "  'course': 'data-engineering-zoomcamp'},\n",
       " {'text': 'Yes, the slack channel remains open and you can ask questions there. But always sDocker containers exit code w search the channel first and second, check the FAQ (this document), most likely all your questions are already answered here.\\nYou can also tag the bot @ZoomcampQABot to help you conduct the search, but don’t rely on its answers 100%, it is pretty good though.',\n",
       "  'section': 'General course-related questions',\n",
       "  'question': 'Course - Can I get support if I take the course in the self-paced mode?',\n",
       "  'course': 'data-engineering-zoomcamp'}]"
      ]
     },
     "execution_count": 10,
     "metadata": {},
     "output_type": "execute_result"
    }
   ],
   "source": [
    "result"
   ]
  },
  {
   "cell_type": "code",
   "execution_count": 11,
   "id": "d6439297",
   "metadata": {},
   "outputs": [],
   "source": [
    "# from openai import OpenAI\n",
    "from google import genai"
   ]
  },
  {
   "cell_type": "code",
   "execution_count": 12,
   "id": "eeb07049",
   "metadata": {},
   "outputs": [],
   "source": [
    "# client = OpenAI()\n",
    "client = genai.Client()"
   ]
  },
  {
   "cell_type": "code",
   "execution_count": 13,
   "id": "6b4b125a",
   "metadata": {},
   "outputs": [],
   "source": [
    "# response = client.chat.completions.create(\n",
    "#     model='gpt-4o',\n",
    "#     messages=[{\"role\": \"user\", \"content\": q}]\n",
    "# )\n",
    "response = client.models.generate_content(\n",
    "    model=\"gemini-2.5-flash\",\n",
    "    contents=q\n",
    ")"
   ]
  },
  {
   "cell_type": "code",
   "execution_count": 14,
   "id": "c85c00b4-9b50-4e5f-9ad8-7d557e0d77bc",
   "metadata": {},
   "outputs": [
    {
     "name": "stdout",
     "output_type": "stream",
     "text": [
      "It really depends entirely on **where the course is offered** and **how far along it is**.\n",
      "\n",
      "Here's a breakdown of common scenarios:\n",
      "\n",
      "1.  **University or College Course (for credit):**\n",
      "    *   **Likelihood:** Often **difficult, but sometimes possible within a very short grace period.** Most universities have strict add/drop deadlines, usually within the first week or two of the semester. After that, you'd typically need special permission from the department head or even the dean, which is rare and usually only for extenuating circumstances.\n",
      "    *   **What to do:**\n",
      "        *   Check the academic calendar for add/drop deadlines.\n",
      "        *   Contact the Registrar's Office or the specific department offering the course immediately.\n",
      "        *   You might be able to audit the course or take it next semester.\n",
      "\n",
      "2.  **Online Learning Platforms (Coursera, edX, FutureLearn, etc. - cohort-based):**\n",
      "    *   **Likelihood:** **Sometimes yes, sometimes no.** If it's a \"live\" cohort with specific start and end dates, there's usually a grace period for late enrollment (e.g., first week). After that, it might be closed to new enrollments for that specific run.\n",
      "    *   **What to do:**\n",
      "        *   Go to the course page on the platform. It will usually state if enrollment is still open or when the next session begins.\n",
      "        *   Check their FAQ or contact their support.\n",
      "        *   Many of these courses offer \"self-paced\" options or repeat in a few months, so you might be able to join the next session.\n",
      "\n",
      "3.  **Online Learning Platforms (Udemy, Skillshare, Teachable, etc. - self-paced):**\n",
      "    *   **Likelihood:** **Almost always yes!** These courses are designed for you to start whenever you want and go at your own pace. There's no \"start date\" in the traditional sense.\n",
      "    *   **What to do:** Just enroll and start!\n",
      "\n",
      "4.  **Community College, Adult Education, or Community Center Course (non-credit/enrichment):**\n",
      "    *   **Likelihood:** Often **more flexible**, especially if it's early in the course. They might allow you to join if you can catch up quickly and pay the full fee.\n",
      "    *   **What to do:** Contact the specific institution directly and ask.\n",
      "\n",
      "5.  **Private Training Program or Bootcamp:**\n",
      "    *   **Likelihood:** **Varies widely.** Some have very strict cohort start dates, while others (especially those with rolling admissions or self-paced components) might be more flexible.\n",
      "    *   **What to do:** Contact the program administrators directly to inquire about their late enrollment policy.\n",
      "\n",
      "**General Advice:**\n",
      "\n",
      "*   **Act Fast:** The longer you wait, the less likely it is you'll be able to enroll.\n",
      "*   **Be Prepared to Catch Up:** If you are allowed to enroll, be ready to put in extra effort to cover the material you've already missed.\n",
      "*   **Check the Website First:** The course's official page or the institution's website usually has the most up-to-date information on enrollment deadlines.\n",
      "*   **Contact Admissions/Administration:** Your best bet is to call or email the relevant office directly.\n",
      "\n",
      "Good luck!\n"
     ]
    }
   ],
   "source": [
    "print(response.text)"
   ]
  },
  {
   "cell_type": "code",
   "execution_count": 15,
   "id": "633df09d-5af6-4063-a0c7-5f27e7d48fe2",
   "metadata": {},
   "outputs": [],
   "source": [
    "#We want the LLM to put the document content in the context of the answer\n",
    "prompt_template = \"\"\"\n",
    "You're a course teaching assistant. Answer the QUESTION based on the CONTEXT from the FQA database. \n",
    "Use only the facts from the CONTEXT when answering the QUESTION.\n",
    "If the CONTEXT doesn't contain the answer, output NONE\n",
    "\n",
    "QUESTION: {question}\n",
    "\n",
    "CONTEXT:\n",
    "{context}\n",
    "\"\"\".strip()"
   ]
  },
  {
   "cell_type": "code",
   "execution_count": 16,
   "id": "4841d2a3-315d-47f8-a9a2-f2282a145a67",
   "metadata": {},
   "outputs": [],
   "source": [
    "context = \"\"\n",
    "\n",
    "for doc in result:\n",
    "    context = context + f\"section: {doc['section']}\\nquestion: {doc['question']}\\nanswer: {doc['text']}\\n\\n\""
   ]
  },
  {
   "cell_type": "code",
   "execution_count": 17,
   "id": "b827b86e-21ff-485a-b0be-23e3465db7e9",
   "metadata": {},
   "outputs": [],
   "source": [
    "prompt = prompt_template.format(question=q, context=context).strip()"
   ]
  },
  {
   "cell_type": "code",
   "execution_count": 18,
   "id": "bb2d53db-200c-40c6-a4c0-8dd73c1402ac",
   "metadata": {},
   "outputs": [
    {
     "name": "stdout",
     "output_type": "stream",
     "text": [
      "Yes, even if you don't register, you're still eligible to submit the homeworks. However, be aware that there will be deadlines for turning in the final projects.\n"
     ]
    }
   ],
   "source": [
    "# response = client.chat.completions.create(\n",
    "#     model='gpt-4o',\n",
    "#     messages=[{\"role\": \"user\", \"content\": prompt}]\n",
    "# )\n",
    "\n",
    "# response.choices[0].message.content\n",
    "response = client.models.generate_content(\n",
    "    model=\"gemini-2.5-flash\",\n",
    "    contents=prompt\n",
    ")\n",
    "\n",
    "print(response.text)"
   ]
  },
  {
   "cell_type": "code",
   "execution_count": null,
   "id": "c9721d12-8ac7-49be-ab6a-035ac6a9e3de",
   "metadata": {},
   "outputs": [],
   "source": [
    "def search(query):\n",
    "    "
   ]
  },
  {
   "cell_type": "code",
   "execution_count": null,
   "id": "015699ea-a266-4006-9a54-c2dacb135516",
   "metadata": {},
   "outputs": [],
   "source": []
  }
 ],
 "metadata": {
  "kernelspec": {
   "display_name": "Python 3 (ipykernel)",
   "language": "python",
   "name": "python3"
  },
  "language_info": {
   "codemirror_mode": {
    "name": "ipython",
    "version": 3
   },
   "file_extension": ".py",
   "mimetype": "text/x-python",
   "name": "python",
   "nbconvert_exporter": "python",
   "pygments_lexer": "ipython3",
   "version": "3.12.1"
  }
 },
 "nbformat": 4,
 "nbformat_minor": 5
}
