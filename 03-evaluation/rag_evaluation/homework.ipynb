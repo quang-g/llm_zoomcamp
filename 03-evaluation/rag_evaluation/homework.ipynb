{
 "cells": [
  {
   "cell_type": "code",
   "execution_count": 1,
   "id": "4e497593-578f-48aa-b6b5-6476f212cc2c",
   "metadata": {},
   "outputs": [],
   "source": [
    "import requests\n",
    "import pandas as pd\n",
    "\n",
    "url_prefix = 'https://raw.githubusercontent.com/DataTalksClub/llm-zoomcamp/main/03-evaluation/'\n",
    "docs_url = url_prefix + 'search_evaluation/documents-with-ids.json'\n",
    "documents = requests.get(docs_url).json()\n",
    "\n",
    "ground_truth_url = url_prefix + 'search_evaluation/ground-truth-data.csv'\n",
    "df_ground_truth = pd.read_csv(ground_truth_url)\n",
    "ground_truth = df_ground_truth.to_dict(orient='records')"
   ]
  },
  {
   "cell_type": "code",
   "execution_count": 2,
   "id": "3478f68a-d30b-4779-9273-228fe7118717",
   "metadata": {},
   "outputs": [
    {
     "data": {
      "text/plain": [
       "{'text': \"The purpose of this document is to capture frequently asked technical questions\\nThe exact day and hour of the course will be 15th Jan 2024 at 17h00. The course will start with the first  “Office Hours'' live.1\\nSubscribe to course public Google Calendar (it works from Desktop only).\\nRegister before the course starts using this link.\\nJoin the course Telegram channel with announcements.\\nDon’t forget to register in DataTalks.Club's Slack and join the channel.\",\n",
       " 'section': 'General course-related questions',\n",
       " 'question': 'Course - When will the course start?',\n",
       " 'course': 'data-engineering-zoomcamp',\n",
       " 'id': 'c02e79ef'}"
      ]
     },
     "execution_count": 2,
     "metadata": {},
     "output_type": "execute_result"
    }
   ],
   "source": [
    "documents[0]"
   ]
  },
  {
   "cell_type": "code",
   "execution_count": 3,
   "id": "dc061e20-63b2-4d74-9744-0b3c9cba60da",
   "metadata": {},
   "outputs": [
    {
     "data": {
      "text/plain": [
       "{'question': 'When does the course begin?',\n",
       " 'course': 'data-engineering-zoomcamp',\n",
       " 'document': 'c02e79ef'}"
      ]
     },
     "execution_count": 3,
     "metadata": {},
     "output_type": "execute_result"
    }
   ],
   "source": [
    "ground_truth[0]"
   ]
  },
  {
   "cell_type": "code",
   "execution_count": 4,
   "id": "4b7d51cd-6f65-42ca-a190-1635b90d1f9b",
   "metadata": {},
   "outputs": [],
   "source": [
    "doc_idx = {d['id']: d for d in documents}"
   ]
  },
  {
   "cell_type": "code",
   "execution_count": 5,
   "id": "f91400c0-72c5-4cb6-9c5f-18455c56ee40",
   "metadata": {},
   "outputs": [
    {
     "name": "stderr",
     "output_type": "stream",
     "text": [
      "/usr/local/python/3.12.1/lib/python3.12/site-packages/tqdm/auto.py:21: TqdmWarning: IProgress not found. Please update jupyter and ipywidgets. See https://ipywidgets.readthedocs.io/en/stable/user_install.html\n",
      "  from .autonotebook import tqdm as notebook_tqdm\n"
     ]
    }
   ],
   "source": [
    "from tqdm.auto import tqdm\n",
    "\n",
    "def hit_rate(relevance_total):\n",
    "    cnt = 0\n",
    "\n",
    "    for line in relevance_total:\n",
    "        if True in line:\n",
    "            cnt = cnt + 1\n",
    "\n",
    "    return cnt / len(relevance_total)\n",
    "\n",
    "def mrr(relevance_total):\n",
    "    total_score = 0.0\n",
    "\n",
    "    for line in relevance_total:\n",
    "        for rank in range(len(line)):\n",
    "            if line[rank] == True:\n",
    "                total_score = total_score + 1 / (rank + 1)\n",
    "\n",
    "    return total_score / len(relevance_total)\n",
    "\n",
    "def evaluate(ground_truth, search_function):\n",
    "    relevance_total = []\n",
    "\n",
    "    for q in tqdm(ground_truth):\n",
    "        doc_id = q['document']\n",
    "        results = search_function(query = q['question'], course = q['course'])\n",
    "        relevance = [d['id'] == doc_id for d in results]\n",
    "        relevance_total.append(relevance)\n",
    "\n",
    "    return {\n",
    "        'hit_rate': hit_rate(relevance_total),\n",
    "        'mrr': mrr(relevance_total),\n",
    "    }"
   ]
  },
  {
   "cell_type": "markdown",
   "id": "9670c65d-dfca-48f8-919e-205603b92384",
   "metadata": {},
   "source": [
    "## Q1. Minsearch Text\n",
    "## Index Data"
   ]
  },
  {
   "cell_type": "code",
   "execution_count": 6,
   "id": "d28ca5de-c6ae-437b-a7d2-e2b224bb5dd0",
   "metadata": {},
   "outputs": [
    {
     "data": {
      "text/plain": [
       "<minsearch.minsearch.Index at 0x78dd05e28980>"
      ]
     },
     "execution_count": 6,
     "metadata": {},
     "output_type": "execute_result"
    }
   ],
   "source": [
    "import minsearch\n",
    "\n",
    "index = minsearch.Index(\n",
    "    text_fields=[\"question\", \"section\", \"text\"],\n",
    "    keyword_fields=[\"course\", \"id\"]\n",
    ")\n",
    "\n",
    "index.fit(documents)"
   ]
  },
  {
   "cell_type": "code",
   "execution_count": 7,
   "id": "6aa5206d-7f87-4bf3-b2c5-eb2f98342418",
   "metadata": {},
   "outputs": [],
   "source": [
    "boost = {'question': 1.5, 'section': 0.1}\n",
    "\n",
    "def minsearch_search(query, course):\n",
    "    results = index.search(\n",
    "        query=query, \n",
    "        boost_dict=boost,\n",
    "        filter_dict={'course': course},\n",
    "        num_results=5\n",
    "    )\n",
    "\n",
    "    return results"
   ]
  },
  {
   "cell_type": "code",
   "execution_count": 8,
   "id": "9a095a7f-9470-4c73-8dff-d8a75c61e8a5",
   "metadata": {},
   "outputs": [
    {
     "name": "stderr",
     "output_type": "stream",
     "text": [
      "100%|█████████████████████████████████████████████████████████████████████████████████████████████| 4627/4627 [00:13<00:00, 330.62it/s]\n"
     ]
    },
    {
     "data": {
      "text/plain": [
       "{'hit_rate': 0.848714069591528, 'mrr': 0.7288235717887772}"
      ]
     },
     "execution_count": 8,
     "metadata": {},
     "output_type": "execute_result"
    }
   ],
   "source": [
    "evaluate(ground_truth, minsearch_search)"
   ]
  },
  {
   "cell_type": "markdown",
   "id": "7ec25a26-81a7-4234-b80b-7ede8810d5e7",
   "metadata": {},
   "source": [
    "## Embeddings"
   ]
  },
  {
   "cell_type": "code",
   "execution_count": 9,
   "id": "e3e46817-2960-426e-ae5d-7bb88fc1b242",
   "metadata": {},
   "outputs": [],
   "source": [
    "from minsearch import VectorSearch"
   ]
  },
  {
   "cell_type": "code",
   "execution_count": 10,
   "id": "be97e403-7751-4f01-89d0-c1815475a814",
   "metadata": {},
   "outputs": [],
   "source": [
    "from sklearn.feature_extraction.text import TfidfVectorizer\n",
    "from sklearn.decomposition import TruncatedSVD\n",
    "from sklearn.pipeline import make_pipeline"
   ]
  },
  {
   "cell_type": "code",
   "execution_count": 11,
   "id": "6c18040e-120b-42ca-a9c1-a0e16220375f",
   "metadata": {},
   "outputs": [],
   "source": [
    "# Create Embeddings for the \"question\" field\n",
    "texts = []\n",
    "\n",
    "for doc in documents:\n",
    "    t = doc['question']\n",
    "    texts.append(t)\n",
    "\n",
    "pipeline = make_pipeline(\n",
    "    TfidfVectorizer(min_df=3),\n",
    "    TruncatedSVD(n_components=128, random_state=1)\n",
    ")\n",
    "X = pipeline.fit_transform(texts)"
   ]
  },
  {
   "cell_type": "markdown",
   "id": "e9deff9c-bd1c-43dc-a626-94f0b2522baf",
   "metadata": {},
   "source": [
    "## Q2. Vector search for question"
   ]
  },
  {
   "cell_type": "code",
   "execution_count": 12,
   "id": "b45234c6-a404-4b67-96d7-0579ed457e08",
   "metadata": {},
   "outputs": [
    {
     "data": {
      "text/plain": [
       "<minsearch.vector.VectorSearch at 0x78dcf9cbeba0>"
      ]
     },
     "execution_count": 12,
     "metadata": {},
     "output_type": "execute_result"
    }
   ],
   "source": [
    "vindex = VectorSearch(keyword_fields={'course'})\n",
    "vindex.fit(X, documents)"
   ]
  },
  {
   "cell_type": "code",
   "execution_count": 44,
   "id": "1097583d-28d8-4ff6-a0f3-e911749a5312",
   "metadata": {},
   "outputs": [
    {
     "name": "stderr",
     "output_type": "stream",
     "text": [
      "100%|█████████████████████████████████████████████████████████████████████████████████████████████| 4627/4627 [00:06<00:00, 741.70it/s]"
     ]
    },
    {
     "name": "stdout",
     "output_type": "stream",
     "text": [
      "{'MRR@5': 0.3568510914199265}\n"
     ]
    },
    {
     "name": "stderr",
     "output_type": "stream",
     "text": [
      "\n"
     ]
    }
   ],
   "source": [
    "from tqdm.auto import tqdm\n",
    "\n",
    "def minsearch_search_fn(query, course, k=5):\n",
    "    \"\"\"\n",
    "    Embed the query with the SAME fitted pipeline and search in Minsearch with a course filter.\n",
    "    \"\"\"\n",
    "    # TF-IDF expects an iterable -> wrap in a list\n",
    "    q_mat = pipeline.transform([query])       # shape: (1, n_components)\n",
    "    # Make a 1D vector\n",
    "    q_vec = q_mat.toarray()[0] if hasattr(q_mat, \"toarray\") else q_mat[0]\n",
    "\n",
    "    return vindex.search(q_vec, filter_dict={'course': course}, num_results=k)\n",
    "\n",
    "def mrr_at_k(ground_truth, k=5):\n",
    "    \"\"\"\n",
    "    Compute Mean Reciprocal Rank@k.\n",
    "    Assumes each ground_truth item has keys: 'question', 'course', 'document' (relevant doc id).\n",
    "    \"\"\"\n",
    "    total_rr = 0.0\n",
    "    n = 0\n",
    "\n",
    "    for q in tqdm(ground_truth):\n",
    "        results = minsearch_search_fn(q['question'], q['course'], k=k)\n",
    "        # Find rank (1-based) of the relevant document\n",
    "        rank = None\n",
    "        for i, d in enumerate(results):\n",
    "            if d.get('id') == q['document']:\n",
    "                rank = i + 1\n",
    "                break\n",
    "        if rank is not None:\n",
    "            total_rr += 1.0 / rank  # reciprocal rank (0 if not found)\n",
    "        n += 1\n",
    "\n",
    "    return total_rr / n if n else 0.0\n",
    "\n",
    "# --- Run it ---\n",
    "mrr5 = mrr_at_k(ground_truth, k=5)\n",
    "print({\"MRR@5\": mrr5})\n"
   ]
  },
  {
   "cell_type": "code",
   "execution_count": null,
   "id": "3f19a63b-56ea-44f9-afa7-34666e8e2824",
   "metadata": {},
   "outputs": [],
   "source": []
  }
 ],
 "metadata": {
  "kernelspec": {
   "display_name": "Python 3 (ipykernel)",
   "language": "python",
   "name": "python3"
  },
  "language_info": {
   "codemirror_mode": {
    "name": "ipython",
    "version": 3
   },
   "file_extension": ".py",
   "mimetype": "text/x-python",
   "name": "python",
   "nbconvert_exporter": "python",
   "pygments_lexer": "ipython3",
   "version": "3.12.1"
  }
 },
 "nbformat": 4,
 "nbformat_minor": 5
}
